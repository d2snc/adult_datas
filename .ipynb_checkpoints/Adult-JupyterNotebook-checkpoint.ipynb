{
 "cells": [
  {
   "cell_type": "code",
   "execution_count": 70,
   "id": "f9cc7862",
   "metadata": {},
   "outputs": [],
   "source": [
    "import pandas as pd\n",
    "import numpy as np\n",
    "import seaborn as sn\n",
    "import matplotlib.pyplot as plt\n",
    "from sklearn.experimental import enable_iterative_imputer\n",
    "from sklearn.impute import IterativeImputer\n",
    "from sklearn.preprocessing import LabelEncoder\n",
    "from sklearn.metrics import accuracy_score\n",
    "from sklearn.metrics import precision_score\n",
    "from sklearn.metrics import recall_score\n",
    "from sklearn.metrics import f1_score\n",
    "from sklearn import tree\n",
    "from sklearn.ensemble import RandomForestClassifier\n",
    "from sklearn.neighbors import KNeighborsClassifier\n",
    "from sklearn.ensemble import GradientBoostingClassifier\n",
    "from sklearn import svm\n",
    "from sklearn.svm import SVC\n",
    "from sklearn.naive_bayes import CategoricalNB\n",
    "from sklearn.naive_bayes import GaussianNB\n",
    "from sklearn.neural_network import MLPClassifier\n",
    "from sklearn.model_selection import GridSearchCV\n",
    "from sklearn.metrics import confusion_matrix"
   ]
  },
  {
   "cell_type": "code",
   "execution_count": 3,
   "id": "a6983263",
   "metadata": {},
   "outputs": [],
   "source": [
    "#URL para download da base adult\n",
    "url_adult = 'http://archive.ics.uci.edu/ml/machine-learning-databases/adult/adult.data'\n",
    "url_test = 'http://archive.ics.uci.edu/ml/machine-learning-databases/adult/adult.test'"
   ]
  },
  {
   "cell_type": "code",
   "execution_count": 4,
   "id": "99cba490",
   "metadata": {},
   "outputs": [],
   "source": [
    "#importa a base adult para o Python\n",
    "adult_data_orig = pd.read_csv(url_adult, sep=',',header=None)\n",
    "adult_test_orig = pd.read_csv(url_test, sep=',',skiprows=1,header=None)"
   ]
  },
  {
   "cell_type": "code",
   "execution_count": 5,
   "id": "29bb4e22",
   "metadata": {},
   "outputs": [
    {
     "data": {
      "text/html": [
       "<div>\n",
       "<style scoped>\n",
       "    .dataframe tbody tr th:only-of-type {\n",
       "        vertical-align: middle;\n",
       "    }\n",
       "\n",
       "    .dataframe tbody tr th {\n",
       "        vertical-align: top;\n",
       "    }\n",
       "\n",
       "    .dataframe thead th {\n",
       "        text-align: right;\n",
       "    }\n",
       "</style>\n",
       "<table border=\"1\" class=\"dataframe\">\n",
       "  <thead>\n",
       "    <tr style=\"text-align: right;\">\n",
       "      <th></th>\n",
       "      <th>0</th>\n",
       "      <th>1</th>\n",
       "      <th>2</th>\n",
       "      <th>3</th>\n",
       "      <th>4</th>\n",
       "      <th>5</th>\n",
       "      <th>6</th>\n",
       "      <th>7</th>\n",
       "      <th>8</th>\n",
       "      <th>9</th>\n",
       "      <th>10</th>\n",
       "      <th>11</th>\n",
       "      <th>12</th>\n",
       "      <th>13</th>\n",
       "      <th>14</th>\n",
       "    </tr>\n",
       "  </thead>\n",
       "  <tbody>\n",
       "    <tr>\n",
       "      <th>0</th>\n",
       "      <td>39</td>\n",
       "      <td>State-gov</td>\n",
       "      <td>77516</td>\n",
       "      <td>Bachelors</td>\n",
       "      <td>13</td>\n",
       "      <td>Never-married</td>\n",
       "      <td>Adm-clerical</td>\n",
       "      <td>Not-in-family</td>\n",
       "      <td>White</td>\n",
       "      <td>Male</td>\n",
       "      <td>2174</td>\n",
       "      <td>0</td>\n",
       "      <td>40</td>\n",
       "      <td>United-States</td>\n",
       "      <td>&lt;=50K</td>\n",
       "    </tr>\n",
       "    <tr>\n",
       "      <th>1</th>\n",
       "      <td>50</td>\n",
       "      <td>Self-emp-not-inc</td>\n",
       "      <td>83311</td>\n",
       "      <td>Bachelors</td>\n",
       "      <td>13</td>\n",
       "      <td>Married-civ-spouse</td>\n",
       "      <td>Exec-managerial</td>\n",
       "      <td>Husband</td>\n",
       "      <td>White</td>\n",
       "      <td>Male</td>\n",
       "      <td>0</td>\n",
       "      <td>0</td>\n",
       "      <td>13</td>\n",
       "      <td>United-States</td>\n",
       "      <td>&lt;=50K</td>\n",
       "    </tr>\n",
       "  </tbody>\n",
       "</table>\n",
       "</div>"
      ],
      "text/plain": [
       "   0                  1      2           3   4                    5   \\\n",
       "0  39          State-gov  77516   Bachelors  13        Never-married   \n",
       "1  50   Self-emp-not-inc  83311   Bachelors  13   Married-civ-spouse   \n",
       "\n",
       "                 6               7       8      9     10  11  12  \\\n",
       "0      Adm-clerical   Not-in-family   White   Male  2174   0  40   \n",
       "1   Exec-managerial         Husband   White   Male     0   0  13   \n",
       "\n",
       "               13      14  \n",
       "0   United-States   <=50K  \n",
       "1   United-States   <=50K  "
      ]
     },
     "execution_count": 5,
     "metadata": {},
     "output_type": "execute_result"
    }
   ],
   "source": [
    "adult_data_orig.head(2)"
   ]
  },
  {
   "cell_type": "code",
   "execution_count": 6,
   "id": "66735c28",
   "metadata": {},
   "outputs": [],
   "source": [
    "#save point\n",
    "adult_data = adult_data_orig\n",
    "adult_test = adult_test_orig"
   ]
  },
  {
   "cell_type": "code",
   "execution_count": 7,
   "id": "a411339f",
   "metadata": {},
   "outputs": [],
   "source": [
    "#define o nome das colunas do dataset\n",
    "col = ['age','workclass','fnlwgt','education','educational-num','marital-status','occupation','relationship','race','gender','capital-gain','capital-loss','hours-per-week','native-country','income']"
   ]
  },
  {
   "cell_type": "code",
   "execution_count": 8,
   "id": "744c8ca7",
   "metadata": {},
   "outputs": [],
   "source": [
    "#define a lista de nomes como colunas do dataset\n",
    "adult_data = adult_data.set_axis(col, axis=1,inplace=False)\n",
    "adult_test = adult_test.set_axis(col, axis=1,inplace=False)"
   ]
  },
  {
   "cell_type": "code",
   "execution_count": 9,
   "id": "1b260a81",
   "metadata": {},
   "outputs": [],
   "source": [
    "#exclui as colunas 'fnlwgt' (apenas um número sequencial) e 'education' (redundante com com tempo de educação) \n",
    "adult_data = adult_data.drop(['fnlwgt', 'educational-num'], axis=1)\n",
    "adult_test = adult_test.drop(['fnlwgt', 'educational-num'], axis=1)"
   ]
  },
  {
   "cell_type": "code",
   "execution_count": 10,
   "id": "3bc91eca",
   "metadata": {},
   "outputs": [],
   "source": [
    "#substitui as ? por NaN\n",
    "adult_data = adult_data.replace(' ?', np.NaN, inplace=False)\n",
    "adult_test = adult_test.replace(' ?', np.NaN, inplace=False)"
   ]
  },
  {
   "cell_type": "code",
   "execution_count": 11,
   "id": "862d8042",
   "metadata": {},
   "outputs": [],
   "source": [
    "#transforma classes escritas em números, exceto dados faltantes\n",
    "data_num = adult_data.apply(lambda series: pd.Series(\n",
    "    LabelEncoder().fit_transform(series[series.notnull()]),\n",
    "    index=series[series.notnull()].index))\n",
    "\n",
    "test_num = adult_test.apply(lambda series: pd.Series(\n",
    "    LabelEncoder().fit_transform(series[series.notnull()]),\n",
    "    index=series[series.notnull()].index))"
   ]
  },
  {
   "cell_type": "code",
   "execution_count": 12,
   "id": "74095995",
   "metadata": {},
   "outputs": [],
   "source": [
    "#usa sklearn para preencher os dados faltantes na base de treino\n",
    "df_data = data_num\n",
    "imp_data = IterativeImputer(max_iter=100000, verbose=0)\n",
    "imp_data.fit(df_data)\n",
    "imputed_df_data = imp_data.transform(df_data)\n",
    "adult_treino = pd.DataFrame(imputed_df_data, columns=df_data.columns)\n",
    "\n",
    "#usa sklearn para preencher os dados faltantes na base de teste\n",
    "df_test = test_num\n",
    "imp_test = IterativeImputer(max_iter=100000, verbose=0)\n",
    "imp_test.fit(df_test)\n",
    "imputed_df_test = imp_test.transform(df_test)\n",
    "adult_teste = pd.DataFrame(imputed_df_test, columns=df_test.columns)"
   ]
  },
  {
   "cell_type": "code",
   "execution_count": 187,
   "id": "fe7b70ad",
   "metadata": {},
   "outputs": [],
   "source": [
    "### CRIA DATASET DE TREINAMENTO BALANCEADO ###\n",
    "adult_treino_menor50k = adult_treino[adult_treino.income != 1]\n",
    "adult_treino_maior50k = adult_treino[adult_treino.income == 1]\n",
    "\n",
    "linhas_menor50k = np.random.choice(adult_treino_menor50k.index.values, adult_treino['income'].value_counts()[1]*1)\n",
    "adult_treino_menor50k_bal = adult_treino_menor50k.loc[linhas_menor50k]\n",
    "\n",
    "adult_treino_bal = pd.concat([adult_treino_menor50k_bal, adult_treino_maior50k], axis=0)"
   ]
  },
  {
   "cell_type": "code",
   "execution_count": 220,
   "id": "92ed98ed",
   "metadata": {},
   "outputs": [
    {
     "data": {
      "text/plain": [
       "0.0    24720\n",
       "1.0     7841\n",
       "Name: income, dtype: int64"
      ]
     },
     "execution_count": 220,
     "metadata": {},
     "output_type": "execute_result"
    }
   ],
   "source": [
    "adult_treino['income'].value_counts()"
   ]
  },
  {
   "cell_type": "code",
   "execution_count": 221,
   "id": "aeb12d31",
   "metadata": {},
   "outputs": [
    {
     "data": {
      "text/plain": [
       "0.0    7841\n",
       "1.0    7841\n",
       "Name: income, dtype: int64"
      ]
     },
     "execution_count": 221,
     "metadata": {},
     "output_type": "execute_result"
    }
   ],
   "source": [
    "adult_treino_bal['income'].value_counts()"
   ]
  },
  {
   "cell_type": "code",
   "execution_count": 189,
   "id": "df7b9b49",
   "metadata": {},
   "outputs": [],
   "source": [
    "#separa os atributos (X) e as label income (Y)\n",
    "X_treino = adult_treino.loc[:, adult_treino.columns != 'income']\n",
    "y_treino = adult_treino.loc[:, adult_treino.columns == 'income']\n",
    "\n",
    "X_teste = adult_teste.loc[:, adult_teste.columns != 'income']\n",
    "y_teste = adult_teste.loc[:, adult_teste.columns == 'income']\n",
    "\n",
    "#DATASET BALANCEADO\n",
    "X_treino_bal = adult_treino_bal.loc[:, adult_treino.columns != 'income']\n",
    "y_treino_bal = adult_treino_bal.loc[:, adult_treino.columns == 'income']"
   ]
  },
  {
   "cell_type": "code",
   "execution_count": 62,
   "id": "51fb368f",
   "metadata": {},
   "outputs": [
    {
     "data": {
      "text/plain": [
       "{'leaf_size': 20, 'n_neighbors': 8, 'p': 1, 'weights': 'uniform'}"
      ]
     },
     "execution_count": 62,
     "metadata": {},
     "output_type": "execute_result"
    }
   ],
   "source": [
    "### KNN c/ GridSearch e Cross Validation ###\n",
    "knn2 = KNeighborsClassifier()\n",
    "#dicionário com os valores possíveis dos hiperparâmetros\n",
    "param_grid_knn = {'n_neighbors': np.arange(1, 10),\n",
    "                  'weights': ['uniform', 'distance'],\n",
    "                  'leaf_size': [10, 20, 30, 40, 50],\n",
    "                  'p': [1,2]}\n",
    "#usa gridsearch para testar todos os hiperparâmetros\n",
    "knn_gscv = GridSearchCV(knn2, param_grid_knn, cv=5)\n",
    "knn_gscv.fit(X_treino, y_treino.values.ravel())\n",
    "knn_gscv.best_params_"
   ]
  },
  {
   "cell_type": "code",
   "execution_count": 190,
   "id": "b812f4b2",
   "metadata": {},
   "outputs": [
    {
     "data": {
      "text/plain": [
       "{'leaf_size': 20, 'n_neighbors': 9, 'p': 1, 'weights': 'distance'}"
      ]
     },
     "execution_count": 190,
     "metadata": {},
     "output_type": "execute_result"
    }
   ],
   "source": [
    "### KNN balanceado c/ GridSearch e Cross Validation ###\n",
    "knn2_bal = KNeighborsClassifier()\n",
    "#dicionário com os valores possíveis dos hiperparâmetros\n",
    "param_grid_knn_bal = {'n_neighbors': np.arange(1, 10),\n",
    "                  'weights': ['uniform', 'distance'],\n",
    "                  'leaf_size': [10, 20, 30, 40, 50],\n",
    "                  'p': [1,2]}\n",
    "#usa gridsearch para testar todos os hiperparâmetros\n",
    "knn_gscv_bal = GridSearchCV(knn2_bal, param_grid_knn_bal, cv=5)\n",
    "knn_gscv_bal.fit(X_treino_bal, y_treino_bal.values.ravel())\n",
    "knn_gscv_bal.best_params_"
   ]
  },
  {
   "cell_type": "code",
   "execution_count": 64,
   "id": "dbc5ddaf",
   "metadata": {},
   "outputs": [],
   "source": [
    "### Roda o KNN com os hiperparâmetros encontrados por Cross Validation ###\n",
    "knn = KNeighborsClassifier(n_neighbors = knn_gscv.best_params_['n_neighbors'],\n",
    "                           weights = knn_gscv.best_params_['weights'],\n",
    "                           leaf_size = knn_gscv.best_params_['leaf_size'],\n",
    "                           p = knn_gscv.best_params_['p'],\n",
    "                           n_jobs = -1)\n",
    "\n",
    "knn.fit(X_treino, y_treino.values.ravel())\n",
    "knn.pred_treino = knn.predict(X_treino)\n",
    "knn.pred_teste = knn.predict(X_teste)"
   ]
  },
  {
   "cell_type": "code",
   "execution_count": 191,
   "id": "0ff93c9f",
   "metadata": {},
   "outputs": [],
   "source": [
    "### Roda o KNN com DATASET DE TREINO BALANCEADO###\n",
    "knn_bal = KNeighborsClassifier(n_neighbors = knn_gscv_bal.best_params_['n_neighbors'],\n",
    "                           weights = knn_gscv_bal.best_params_['weights'],\n",
    "                           leaf_size = knn_gscv_bal.best_params_['leaf_size'],\n",
    "                           p = knn_gscv_bal.best_params_['p'],\n",
    "                           n_jobs = -1)\n",
    "\n",
    "knn_bal.fit(X_treino_bal, y_treino_bal.values.ravel())\n",
    "knn_bal.pred_treino = knn_bal.predict(X_treino)\n",
    "knn_bal.pred_teste = knn_bal.predict(X_teste)"
   ]
  },
  {
   "cell_type": "code",
   "execution_count": 67,
   "id": "99cd721a",
   "metadata": {},
   "outputs": [
    {
     "name": "stdout",
     "output_type": "stream",
     "text": [
      "Acurária TREINO: 0.8739596449740487\n",
      "Acurária TESTE: 0.8347767336158712\n",
      "Precisão TREINO: 0.6216043871955108\n",
      "Precisão TESTE: 0.5249609984399376\n",
      "Revocação TREINO: 0.8108467809016803\n",
      "Revocação TESTE: 0.7005551700208189\n",
      "F1-Score TREINO: 0.7037250938492636\n",
      "F1-Score TESTE: 0.6001783590963139\n"
     ]
    }
   ],
   "source": [
    "print('Acurária TREINO:', accuracy_score(knn.pred_treino, y_treino))\n",
    "print('Acurária TESTE:', accuracy_score(knn.pred_teste, y_teste))\n",
    "\n",
    "print('Precisão TREINO:', precision_score(knn.pred_treino, y_treino))\n",
    "print('Precisão TESTE:', precision_score(knn.pred_teste, y_teste))\n",
    "\n",
    "print('Revocação TREINO:', recall_score(knn.pred_treino, y_treino))\n",
    "print('Revocação TESTE:', recall_score(knn.pred_teste, y_teste))\n",
    "\n",
    "print('F1-Score TREINO:', f1_score(knn.pred_treino, y_treino))\n",
    "print('F1-Score TESTE:', f1_score(knn.pred_teste, y_teste))"
   ]
  },
  {
   "cell_type": "code",
   "execution_count": 192,
   "id": "0e519bb5",
   "metadata": {},
   "outputs": [
    {
     "name": "stdout",
     "output_type": "stream",
     "text": [
      "KNN Balanceado\n",
      "Acurária TREINO: 0.8563619053468874\n",
      "Acurária TESTE: 0.7696087463914993\n",
      "Precisão TREINO: 0.975768396888152\n",
      "Precisão TESTE: 0.8138325533021321\n",
      "Revocação TREINO: 0.6303344867358708\n",
      "Revocação TESTE: 0.5077047850770479\n",
      "F1-Score TREINO: 0.7659041994093798\n",
      "F1-Score TESTE: 0.6253121566277096\n"
     ]
    }
   ],
   "source": [
    "print('KNN Balanceado')\n",
    "\n",
    "print('Acurária TREINO:', accuracy_score(knn_bal.pred_treino, y_treino))\n",
    "print('Acurária TESTE:', accuracy_score(knn_bal.pred_teste, y_teste))\n",
    "\n",
    "print('Precisão TREINO:', precision_score(knn_bal.pred_treino, y_treino))\n",
    "print('Precisão TESTE:', precision_score(knn_bal.pred_teste, y_teste))\n",
    "\n",
    "print('Revocação TREINO:', recall_score(knn_bal.pred_treino, y_treino))\n",
    "print('Revocação TESTE:', recall_score(knn_bal.pred_teste, y_teste))\n",
    "\n",
    "print('F1-Score TREINO:', f1_score(knn_bal.pred_treino, y_treino))\n",
    "print('F1-Score TESTE:', f1_score(knn_bal.pred_teste, y_teste))"
   ]
  },
  {
   "cell_type": "code",
   "execution_count": 74,
   "id": "f811854e",
   "metadata": {},
   "outputs": [
    {
     "data": {
      "image/png": "[encoded data removed]",
      "text/plain": [
       "<Figure size 432x288 with 2 Axes>"
      ]
     },
     "metadata": {
      "needs_background": "light"
     },
     "output_type": "display_data"
    }
   ],
   "source": [
    "cf_matrix_knn = confusion_matrix(y_teste, knn.pred_teste)\n",
    "ax = sn.heatmap(cf_matrix_knn, annot=True, cmap='Blues', fmt='g')\n",
    "\n",
    "ax.set_title('Matriz de confusão - KNN')\n",
    "ax.set_xlabel('Previstos')\n",
    "ax.set_ylabel('Observados')\n",
    "\n",
    "## Ticket labels - List must be in alphabetical order\n",
    "ax.xaxis.set_ticklabels(['<=50k','>50k'])\n",
    "ax.yaxis.set_ticklabels(['<=50k','>50k'])\n",
    "\n",
    "## Display the visualization of the Confusion Matrix.\n",
    "plt.show()"
   ]
  },
  {
   "cell_type": "code",
   "execution_count": 193,
   "id": "2c72dea2",
   "metadata": {},
   "outputs": [
    {
     "data": {
      "image/png": "[encoded data removed]",
      "text/plain": [
       "<Figure size 432x288 with 2 Axes>"
      ]
     },
     "metadata": {
      "needs_background": "light"
     },
     "output_type": "display_data"
    }
   ],
   "source": [
    "cf_matrix_knn_bal = confusion_matrix(y_teste, knn_bal.pred_teste)\n",
    "ax = sn.heatmap(cf_matrix_knn_bal, annot=True, cmap='Blues', fmt='g')\n",
    "\n",
    "ax.set_title('Matriz de confusão - KNN (BALANCEADO)')\n",
    "ax.set_xlabel('Previstos')\n",
    "ax.set_ylabel('Observados')\n",
    "\n",
    "## Ticket labels - List must be in alphabetical order\n",
    "ax.xaxis.set_ticklabels(['<=50k','>50k'])\n",
    "ax.yaxis.set_ticklabels(['<=50k','>50k'])\n",
    "\n",
    "## Display the visualization of the Confusion Matrix.\n",
    "plt.show()"
   ]
  },
  {
   "cell_type": "code",
   "execution_count": 76,
   "id": "a245b540",
   "metadata": {},
   "outputs": [
    {
     "data": {
      "text/plain": [
       "{'ccp_alpha': 0.0,\n",
       " 'criterion': 'entropy',\n",
       " 'max_features': 'sqrt',\n",
       " 'splitter': 'best'}"
      ]
     },
     "execution_count": 76,
     "metadata": {},
     "output_type": "execute_result"
    }
   ],
   "source": [
    "### CLASSIFICATION TREE c/ GridSearch e Cross Validation ###\n",
    "cltree2 = tree.DecisionTreeClassifier()\n",
    "\n",
    "#dicionário com os valores possíveis dos hiperparâmetros\n",
    "param_grid_cltree = {'criterion': ['gini', 'entropy'],\n",
    "                     'splitter': ['best', 'random'],\n",
    "                     'max_features': ['auto', 'sqrt', 'log2'],\n",
    "                     'ccp_alpha': [0.0, 0.5, 1]}\n",
    "\n",
    "#usa gridsearch para testar todos os hiperparâmetros\n",
    "cltree_gscv = GridSearchCV(cltree2, param_grid_cltree, cv=5)\n",
    "cltree_gscv.fit(X_treino, y_treino)    \n",
    "cltree_gscv.best_params_"
   ]
  },
  {
   "cell_type": "code",
   "execution_count": 194,
   "id": "70ed38dd",
   "metadata": {},
   "outputs": [
    {
     "data": {
      "text/plain": [
       "{'ccp_alpha': 0.0,\n",
       " 'criterion': 'entropy',\n",
       " 'max_features': 'auto',\n",
       " 'splitter': 'best'}"
      ]
     },
     "execution_count": 194,
     "metadata": {},
     "output_type": "execute_result"
    }
   ],
   "source": [
    "### CLASSIFICATION TREE balanceado c/ GridSearch e Cross Validation ###\n",
    "cltree2_bal = tree.DecisionTreeClassifier()\n",
    "\n",
    "#dicionário com os valores possíveis dos hiperparâmetros\n",
    "param_grid_cltree_bal = {'criterion': ['gini', 'entropy'],\n",
    "                     'splitter': ['best', 'random'],\n",
    "                     'max_features': ['auto', 'sqrt', 'log2'],\n",
    "                     'ccp_alpha': [0.0, 0.5, 1]}\n",
    "\n",
    "#usa gridsearch para testar todos os hiperparâmetros\n",
    "cltree_gscv_bal = GridSearchCV(cltree2_bal, param_grid_cltree_bal, cv=5)\n",
    "cltree_gscv_bal.fit(X_treino_bal, y_treino_bal)    \n",
    "cltree_gscv_bal.best_params_"
   ]
  },
  {
   "cell_type": "code",
   "execution_count": 77,
   "id": "e567b68e",
   "metadata": {},
   "outputs": [],
   "source": [
    "### ### Roda o CLASSIFICATION TREE com os hiperparâmetros encontrados por Cross Validation ###\n",
    "cltree = tree.DecisionTreeClassifier(criterion = cltree_gscv.best_params_['criterion'],\n",
    "                                    splitter = cltree_gscv.best_params_['splitter'],\n",
    "                                    max_features = cltree_gscv.best_params_['max_features'],\n",
    "                                    ccp_alpha = cltree_gscv.best_params_['ccp_alpha'])\n",
    "\n",
    "cltree.fit(X_treino, y_treino)\n",
    "\n",
    "cltree.pred_treino = cltree.predict(X_treino)\n",
    "cltree.pred_teste = cltree.predict(X_teste)"
   ]
  },
  {
   "cell_type": "code",
   "execution_count": 195,
   "id": "37be7c48",
   "metadata": {},
   "outputs": [],
   "source": [
    "### ### Roda o CLASSIFICATION TREE com DATASET DE TREINO BALANCEADO ###\n",
    "cltree_bal = tree.DecisionTreeClassifier(criterion = cltree_gscv_bal.best_params_['criterion'],\n",
    "                                    splitter = cltree_gscv_bal.best_params_['splitter'],\n",
    "                                    max_features = cltree_gscv_bal.best_params_['max_features'],\n",
    "                                    ccp_alpha = cltree_gscv_bal.best_params_['ccp_alpha'])\n",
    "\n",
    "cltree_bal.fit(X_treino_bal, y_treino_bal)\n",
    "\n",
    "cltree_bal.pred_treino = cltree_bal.predict(X_treino)\n",
    "cltree_bal.pred_teste = cltree_bal.predict(X_teste)"
   ]
  },
  {
   "cell_type": "code",
   "execution_count": 78,
   "id": "8697dec3",
   "metadata": {},
   "outputs": [
    {
     "name": "stdout",
     "output_type": "stream",
     "text": [
      "Acurária TREINO: 0.9768741746260864\n",
      "Acurária TESTE: 0.805355936367545\n",
      "Precisão TREINO: 0.9199081749776814\n",
      "Precisão TESTE: 0.5444617784711389\n",
      "Revocação TREINO: 0.9829653856636685\n",
      "Revocação TESTE: 0.5964112788379379\n",
      "F1-Score TREINO: 0.9503919889320772\n",
      "F1-Score TESTE: 0.5692537719179014\n"
     ]
    }
   ],
   "source": [
    "print('Acurária TREINO:', accuracy_score(cltree.pred_treino, y_treino))\n",
    "print('Acurária TESTE:', accuracy_score(cltree.pred_teste, y_teste))\n",
    "\n",
    "print('Precisão TREINO:', precision_score(cltree.pred_treino, y_treino))\n",
    "print('Precisão TESTE:', precision_score(cltree.pred_teste, y_teste))\n",
    "\n",
    "print('Revocação TREINO:', recall_score(cltree.pred_treino, y_treino))\n",
    "print('Revocação TESTE:', recall_score(cltree.pred_teste, y_teste))\n",
    "\n",
    "print('F1-Score TREINO:', f1_score(cltree.pred_treino, y_treino))\n",
    "print('F1-Score TESTE:', f1_score(cltree.pred_teste, y_teste))"
   ]
  },
  {
   "cell_type": "code",
   "execution_count": 199,
   "id": "a85976a2",
   "metadata": {},
   "outputs": [
    {
     "name": "stdout",
     "output_type": "stream",
     "text": [
      "Classification Tree BALANCEADO\n",
      "Acurária TREINO: 0.85900\n",
      "Acurária TESTE: 0.75524\n",
      "Precisão TREINO: 0.97577\n",
      "Precisão TESTE: 0.77925\n",
      "Revocação TREINO: 0.63483\n",
      "Revocação TESTE: 0.48867\n",
      "F1-Score TREINO: 0.76922\n",
      "F1-Score TESTE: 0.60066\n"
     ]
    }
   ],
   "source": [
    "print('Classification Tree BALANCEADO')\n",
    "print('Acurária TREINO:', \"{:.5f}\".format(accuracy_score(cltree_bal.pred_treino, y_treino)))\n",
    "print('Acurária TESTE:', \"{:.5f}\".format(accuracy_score(cltree_bal.pred_teste, y_teste)))\n",
    "\n",
    "print('Precisão TREINO:', \"{:.5f}\".format(precision_score(cltree_bal.pred_treino, y_treino)))\n",
    "print('Precisão TESTE:', \"{:.5f}\".format(precision_score(cltree_bal.pred_teste, y_teste)))\n",
    "\n",
    "print('Revocação TREINO:', \"{:.5f}\".format(recall_score(cltree_bal.pred_treino, y_treino)))\n",
    "print('Revocação TESTE:', \"{:.5f}\".format(recall_score(cltree_bal.pred_teste, y_teste)))\n",
    "\n",
    "print('F1-Score TREINO:', \"{:.5f}\".format(f1_score(cltree_bal.pred_treino, y_treino)))\n",
    "print('F1-Score TESTE:', \"{:.5f}\".format(f1_score(cltree_bal.pred_teste, y_teste)))"
   ]
  },
  {
   "cell_type": "code",
   "execution_count": 79,
   "id": "43af3fa6",
   "metadata": {},
   "outputs": [
    {
     "data": {
      "image/png": "[encoded data removed]",
      "text/plain": [
       "<Figure size 432x288 with 2 Axes>"
      ]
     },
     "metadata": {
      "needs_background": "light"
     },
     "output_type": "display_data"
    }
   ],
   "source": [
    "cf_matrix_cltree = confusion_matrix(y_teste, cltree.pred_teste)\n",
    "ax = sn.heatmap(cf_matrix_cltree, annot=True, cmap='Blues', fmt='g')\n",
    "\n",
    "ax.set_title('Matriz de confusão - Classification Tree')\n",
    "ax.set_xlabel('Previstos')\n",
    "ax.set_ylabel('Observados')\n",
    "\n",
    "## Ticket labels - List must be in alphabetical order\n",
    "ax.xaxis.set_ticklabels(['<=50k','>50k'])\n",
    "ax.yaxis.set_ticklabels(['<=50k','>50k'])\n",
    "\n",
    "## Display the visualization of the Confusion Matrix.\n",
    "plt.show()"
   ]
  },
  {
   "cell_type": "code",
   "execution_count": 201,
   "id": "afeb5442",
   "metadata": {},
   "outputs": [
    {
     "data": {
      "image/png": "[encoded data removed]",
      "text/plain": [
       "<Figure size 432x288 with 2 Axes>"
      ]
     },
     "metadata": {
      "needs_background": "light"
     },
     "output_type": "display_data"
    }
   ],
   "source": [
    "cf_matrix_cltree_bal = confusion_matrix(y_teste, cltree_bal.pred_teste)\n",
    "ax = sn.heatmap(cf_matrix_cltree_bal, annot=True, cmap='Blues', fmt='g')\n",
    "\n",
    "ax.set_title('Matriz de confusão - Classification Tree (BALANCEADO)')\n",
    "ax.set_xlabel('Previstos')\n",
    "ax.set_ylabel('Observados')\n",
    "\n",
    "## Ticket labels - List must be in alphabetical order\n",
    "ax.xaxis.set_ticklabels(['<=50k','>50k'])\n",
    "ax.yaxis.set_ticklabels(['<=50k','>50k'])\n",
    "\n",
    "## Display the visualization of the Confusion Matrix.\n",
    "plt.show()"
   ]
  },
  {
   "cell_type": "code",
   "execution_count": 91,
   "id": "cd2953a9",
   "metadata": {},
   "outputs": [
    {
     "data": {
      "text/plain": [
       "{'criterion': 'gini', 'max_features': 'auto', 'n_estimators': 500}"
      ]
     },
     "execution_count": 91,
     "metadata": {},
     "output_type": "execute_result"
    }
   ],
   "source": [
    "### RANDOM FOREST c/ GridSearch e Cross Validation ###\n",
    "rdforest2 = RandomForestClassifier()\n",
    "\n",
    "#dicionário com os valores possíveis dos hiperparâmetros\n",
    "param_grid_rdforest = {'n_estimators': [10, 50, 100, 200, 500],\n",
    "                       'criterion': ['gini', 'entropy'],\n",
    "                       'max_features': ['auto', 'sqrt', 'log2']}\n",
    "\n",
    "#usa gridsearch para testar todos os hiperparâmetros\n",
    "rdforest_gscv = GridSearchCV(rdforest2, param_grid_rdforest, cv=5)\n",
    "rdforest_gscv.fit(X_treino, y_treino.values.ravel())   \n",
    "rdforest_gscv.best_params_"
   ]
  },
  {
   "cell_type": "code",
   "execution_count": 203,
   "id": "c2abce75",
   "metadata": {},
   "outputs": [
    {
     "data": {
      "text/plain": [
       "{'criterion': 'entropy', 'max_features': 'sqrt', 'n_estimators': 200}"
      ]
     },
     "execution_count": 203,
     "metadata": {},
     "output_type": "execute_result"
    }
   ],
   "source": [
    "### RANDOM FOREST BALANCEADO c/ GridSearch e Cross Validation ###\n",
    "rdforest2_bal = RandomForestClassifier()\n",
    "\n",
    "#dicionário com os valores possíveis dos hiperparâmetros\n",
    "param_grid_rdforest_bal = {'n_estimators': [10, 50, 100, 200, 500],\n",
    "                       'criterion': ['gini', 'entropy'],\n",
    "                       'max_features': ['auto', 'sqrt', 'log2']}\n",
    "\n",
    "#usa gridsearch para testar todos os hiperparâmetros\n",
    "rdforest_gscv_bal = GridSearchCV(rdforest2_bal, param_grid_rdforest_bal, cv=5)\n",
    "rdforest_gscv_bal.fit(X_treino_bal, y_treino_bal.values.ravel())   \n",
    "rdforest_gscv_bal.best_params_"
   ]
  },
  {
   "cell_type": "code",
   "execution_count": 143,
   "id": "3d955731",
   "metadata": {},
   "outputs": [],
   "source": [
    "### RANDOM FOREST ###\n",
    "rdforest = RandomForestClassifier(n_estimators = rdforest_gscv.best_params_['n_estimators'],\n",
    "                                  criterion = rdforest_gscv.best_params_['criterion'],\n",
    "                                  max_features = rdforest_gscv.best_params_['max_features'])\n",
    "\n",
    "\n",
    "rdforest.fit(X_treino, y_treino.values.ravel())\n",
    "\n",
    "rdforest.pred_treino=rdforest.predict(X_treino)\n",
    "rdforest.pred_teste=rdforest.predict(X_teste)"
   ]
  },
  {
   "cell_type": "code",
   "execution_count": 204,
   "id": "2b7ee9af",
   "metadata": {},
   "outputs": [],
   "source": [
    "### RANDOM FOREST COM DATASET DE TREINO BALANCEADO ###\n",
    "rdforest_bal = RandomForestClassifier(n_estimators = rdforest_gscv_bal.best_params_['n_estimators'],\n",
    "                                  criterion = rdforest_gscv_bal.best_params_['criterion'],\n",
    "                                  max_features = rdforest_gscv_bal.best_params_['max_features'])\n",
    "\n",
    "\n",
    "rdforest_bal.fit(X_treino_bal, y_treino_bal.values.ravel())\n",
    "\n",
    "rdforest_bal.pred_treino=rdforest_bal.predict(X_treino)\n",
    "rdforest_bal.pred_teste=rdforest_bal.predict(X_teste)"
   ]
  },
  {
   "cell_type": "code",
   "execution_count": 144,
   "id": "5f6ecee9",
   "metadata": {},
   "outputs": [
    {
     "name": "stdout",
     "output_type": "stream",
     "text": [
      "Acurária TREINO: 0.9768741746260864\n",
      "Acurária TESTE: 0.8508076899453351\n",
      "Precisão TREINO: 0.9392934574671598\n",
      "Precisão TESTE: 0.592823712948518\n",
      "Revocação TREINO: 0.9637529442554306\n",
      "Revocação TESTE: 0.7254215717467388\n",
      "F1-Score TREINO: 0.9513660143383066\n",
      "F1-Score TESTE: 0.6524538560595222\n"
     ]
    }
   ],
   "source": [
    "print('Acurária TREINO:', accuracy_score(rdforest.pred_treino, y_treino))\n",
    "print('Acurária TESTE:', accuracy_score(rdforest.pred_teste, y_teste))\n",
    "\n",
    "print('Precisão TREINO:', precision_score(rdforest.pred_treino, y_treino))\n",
    "print('Precisão TESTE:', precision_score(rdforest.pred_teste, y_teste))\n",
    "\n",
    "print('Revocação TREINO:', recall_score(rdforest.pred_treino, y_treino))\n",
    "print('Revocação TESTE:', recall_score(rdforest.pred_teste, y_teste))\n",
    "\n",
    "print('F1-Score TREINO:', f1_score(rdforest.pred_treino, y_treino))\n",
    "print('F1-Score TESTE:', f1_score(rdforest.pred_teste, y_teste))"
   ]
  },
  {
   "cell_type": "code",
   "execution_count": 205,
   "id": "69804997",
   "metadata": {},
   "outputs": [
    {
     "name": "stdout",
     "output_type": "stream",
     "text": [
      "Random Forest Balanceado\n",
      "Acurária TREINO: 0.87989\n",
      "Acurária TESTE: 0.79983\n",
      "Precisão TREINO: 0.98482\n",
      "Precisão TESTE: 0.82943\n",
      "Revocação TREINO: 0.67066\n",
      "Revocação TESTE: 0.55066\n",
      "F1-Score TREINO: 0.79793\n",
      "F1-Score TESTE: 0.66189\n"
     ]
    }
   ],
   "source": [
    "print('Random Forest Balanceado')\n",
    "print('Acurária TREINO:', \"{:.5f}\".format(accuracy_score(rdforest_bal.pred_treino, y_treino)))\n",
    "print('Acurária TESTE:', \"{:.5f}\".format(accuracy_score(rdforest_bal.pred_teste, y_teste)))\n",
    "\n",
    "print('Precisão TREINO:', \"{:.5f}\".format(precision_score(rdforest_bal.pred_treino, y_treino)))\n",
    "print('Precisão TESTE:', \"{:.5f}\".format(precision_score(rdforest_bal.pred_teste, y_teste)))\n",
    "\n",
    "print('Revocação TREINO:', \"{:.5f}\".format(recall_score(rdforest_bal.pred_treino, y_treino)))\n",
    "print('Revocação TESTE:', \"{:.5f}\".format(recall_score(rdforest_bal.pred_teste, y_teste)))\n",
    "\n",
    "print('F1-Score TREINO:', \"{:.5f}\".format(f1_score(rdforest_bal.pred_treino, y_treino)))\n",
    "print('F1-Score TESTE:', \"{:.5f}\".format(f1_score(rdforest_bal.pred_teste, y_teste)))"
   ]
  },
  {
   "cell_type": "code",
   "execution_count": 102,
   "id": "f3d4a54e",
   "metadata": {},
   "outputs": [
    {
     "data": {
      "image/png": "[encoded data removed]",
      "text/plain": [
       "<Figure size 432x288 with 2 Axes>"
      ]
     },
     "metadata": {
      "needs_background": "light"
     },
     "output_type": "display_data"
    }
   ],
   "source": [
    "cf_matrix_rdforest = confusion_matrix(y_teste, rdforest.pred_teste)\n",
    "ax = sn.heatmap(cf_matrix_rdforest, annot=True, cmap='Blues', fmt='g')\n",
    "\n",
    "ax.set_title('Matriz de confusão - Random Forest')\n",
    "ax.set_xlabel('Previstos')\n",
    "ax.set_ylabel('Observados')\n",
    "\n",
    "## Ticket labels - List must be in alphabetical order\n",
    "ax.xaxis.set_ticklabels(['<=50k','>50k'])\n",
    "ax.yaxis.set_ticklabels(['<=50k','>50k'])\n",
    "\n",
    "## Display the visualization of the Confusion Matrix.\n",
    "plt.show()"
   ]
  },
  {
   "cell_type": "code",
   "execution_count": 206,
   "id": "e2777ccb",
   "metadata": {},
   "outputs": [
    {
     "data": {
      "image/png": "[encoded data removed]",
      "text/plain": [
       "<Figure size 432x288 with 2 Axes>"
      ]
     },
     "metadata": {
      "needs_background": "light"
     },
     "output_type": "display_data"
    }
   ],
   "source": [
    "cf_matrix_rdforest_bal = confusion_matrix(y_teste, rdforest_bal.pred_teste)\n",
    "ax = sn.heatmap(cf_matrix_rdforest_bal, annot=True, cmap='Blues', fmt='g')\n",
    "\n",
    "ax.set_title('Matriz de confusão - Random Forest (BALANCEADO)')\n",
    "ax.set_xlabel('Previstos')\n",
    "ax.set_ylabel('Observados')\n",
    "\n",
    "## Ticket labels - List must be in alphabetical order\n",
    "ax.xaxis.set_ticklabels(['<=50k','>50k'])\n",
    "ax.yaxis.set_ticklabels(['<=50k','>50k'])\n",
    "\n",
    "## Display the visualization of the Confusion Matrix.\n",
    "plt.show()"
   ]
  },
  {
   "cell_type": "code",
   "execution_count": 90,
   "id": "16adc1eb",
   "metadata": {},
   "outputs": [
    {
     "data": {
      "text/plain": [
       "{'activation': 'tanh',\n",
       " 'hidden_layer_sizes': (50, 30, 20, 10, 5, 2),\n",
       " 'max_iter': 2000}"
      ]
     },
     "execution_count": 90,
     "metadata": {},
     "output_type": "execute_result"
    }
   ],
   "source": [
    "### Neural Network c/ GridSearch e Cross Validation ###\n",
    "nn2 = MLPClassifier()\n",
    "\n",
    "#dicionário com os valores possíveis dos hiperparâmetros\n",
    "param_grid_nn = {'hidden_layer_sizes': [(10,2), (15,5), (5,10), (10,6,5), (10,10,10), (5,10,2), (10,5,5,10), (5,4,3,2), (10,8,6,10), (10,8,6,5,2), (15,10,8,6,5,2), (20,15,10,8,5,5), (20,15,10,8,5,10), (50,30,20,10,5,2), (20,20,10,10,8,8,5,5)],\n",
    "                  'activation': ['identity', 'logistic', 'tanh', 'relu'],\n",
    "                 'max_iter': [2000]}\n",
    "                       \n",
    "\n",
    "#usa gridsearch para testar todos os hiperparâmetros\n",
    "nn_gscv = GridSearchCV(nn2, param_grid_nn, cv=5)\n",
    "nn_gscv.fit(X_treino, y_treino.values.ravel())   \n",
    "nn_gscv.best_params_"
   ]
  },
  {
   "cell_type": "code",
   "execution_count": 211,
   "id": "c8cfc57f",
   "metadata": {},
   "outputs": [
    {
     "data": {
      "text/plain": [
       "{'activation': 'tanh',\n",
       " 'hidden_layer_sizes': (20, 15, 10, 8, 5, 5),\n",
       " 'max_iter': 2000}"
      ]
     },
     "execution_count": 211,
     "metadata": {},
     "output_type": "execute_result"
    }
   ],
   "source": [
    "### Neural Network BALANCEADO c/ GridSearch e Cross Validation ###\n",
    "nn2_bal = MLPClassifier()\n",
    "\n",
    "#dicionário com os valores possíveis dos hiperparâmetros\n",
    "param_grid_nn_bal = {'hidden_layer_sizes': [(10,2), (15,5), (5,10), (10,6,5), (10,10,10), (5,10,2), (10,5,5,10), (5,4,3,2), (10,8,6,10), (10,8,6,5,2), (15,10,8,6,5,2), (20,15,10,8,5,5), (20,15,10,8,5,10), (50,30,20,10,5,2), (20,20,10,10,8,8,5,5)],\n",
    "                  'activation': ['identity', 'logistic', 'tanh', 'relu'],\n",
    "                 'max_iter': [2000]}\n",
    "                       \n",
    "\n",
    "#usa gridsearch para testar todos os hiperparâmetros\n",
    "nn_gscv_bal = GridSearchCV(nn2_bal, param_grid_nn_bal, cv=5)\n",
    "nn_gscv_bal.fit(X_treino_bal, y_treino_bal.values.ravel())   \n",
    "nn_gscv_bal.best_params_"
   ]
  },
  {
   "cell_type": "code",
   "execution_count": 92,
   "id": "e3e08c16",
   "metadata": {},
   "outputs": [],
   "source": [
    "### Neural Network ###\n",
    "\n",
    "nn = MLPClassifier(hidden_layer_sizes = nn_gscv.best_params_['hidden_layer_sizes'], \n",
    "                   activation = nn_gscv.best_params_['activation'], \n",
    "                   max_iter=2000)\n",
    "\n",
    "nn.fit(X_treino, y_treino.values.ravel())\n",
    "\n",
    "nn.pred_treino=nn.predict(X_treino)\n",
    "nn.pred_teste=nn.predict(X_teste)"
   ]
  },
  {
   "cell_type": "code",
   "execution_count": 212,
   "id": "c90819b0",
   "metadata": {},
   "outputs": [],
   "source": [
    "### Neural Network DATASET BALANCEADO###\n",
    "nn_bal = MLPClassifier(hidden_layer_sizes = nn_gscv_bal.best_params_['hidden_layer_sizes'], \n",
    "                   activation = nn_gscv_bal.best_params_['activation'], \n",
    "                   max_iter=2000)\n",
    "\n",
    "nn_bal.fit(X_treino_bal, y_treino_bal.values.ravel())\n",
    "\n",
    "nn_bal.pred_treino=nn_bal.predict(X_treino)\n",
    "nn_bal.pred_teste=nn_bal.predict(X_teste)"
   ]
  },
  {
   "cell_type": "code",
   "execution_count": 93,
   "id": "1366511a",
   "metadata": {},
   "outputs": [
    {
     "name": "stdout",
     "output_type": "stream",
     "text": [
      "Acurária TREINO: 0.8499738951506404\n",
      "Acurária TESTE: 0.835329525213439\n",
      "Precisão TREINO: 0.5994133401351869\n",
      "Precisão TESTE: 0.5387415496619865\n",
      "Revocação TREINO: 0.7293606455617628\n",
      "Revocação TESTE: 0.6955354145686472\n",
      "F1-Score TREINO: 0.6580329016450822\n",
      "F1-Score TESTE: 0.6071794871794872\n"
     ]
    }
   ],
   "source": [
    "print('Acurária TREINO:', accuracy_score(nn.pred_treino, y_treino))\n",
    "print('Acurária TESTE:', accuracy_score(nn.pred_teste, y_teste))\n",
    "\n",
    "print('Precisão TREINO:', precision_score(nn.pred_treino, y_treino))\n",
    "print('Precisão TESTE:', precision_score(nn.pred_teste, y_teste))\n",
    "\n",
    "print('Revocação TREINO:', recall_score(nn.pred_treino, y_treino))\n",
    "print('Revocação TESTE:', recall_score(nn.pred_teste, y_teste))\n",
    "\n",
    "print('F1-Score TREINO:', f1_score(nn.pred_treino, y_treino))\n",
    "print('F1-Score TESTE:', f1_score(nn.pred_teste, y_teste))"
   ]
  },
  {
   "cell_type": "code",
   "execution_count": 213,
   "id": "4617b6f0",
   "metadata": {},
   "outputs": [
    {
     "name": "stdout",
     "output_type": "stream",
     "text": [
      "NN balanceado\n",
      "Acurária TREINO: 0.78612\n",
      "Acurária TESTE: 0.77790\n",
      "Precisão TREINO: 0.85104\n",
      "Precisão TESTE: 0.84009\n",
      "Revocação TREINO: 0.53517\n",
      "Revocação TESTE: 0.51845\n",
      "F1-Score TREINO: 0.65711\n",
      "F1-Score TESTE: 0.64120\n"
     ]
    }
   ],
   "source": [
    "print('NN balanceado')\n",
    "print('Acurária TREINO:', \"{:.5f}\".format(accuracy_score(nn_bal.pred_treino, y_treino)))\n",
    "print('Acurária TESTE:', \"{:.5f}\".format(accuracy_score(nn_bal.pred_teste, y_teste)))\n",
    "\n",
    "print('Precisão TREINO:', \"{:.5f}\".format(precision_score(nn_bal.pred_treino, y_treino)))\n",
    "print('Precisão TESTE:', \"{:.5f}\".format(precision_score(nn_bal.pred_teste, y_teste)))\n",
    "\n",
    "print('Revocação TREINO:', \"{:.5f}\".format(recall_score(nn_bal.pred_treino, y_treino)))\n",
    "print('Revocação TESTE:', \"{:.5f}\".format(recall_score(nn_bal.pred_teste, y_teste)))\n",
    "\n",
    "print('F1-Score TREINO:', \"{:.5f}\".format(f1_score(nn_bal.pred_treino, y_treino)))\n",
    "print('F1-Score TESTE:', \"{:.5f}\".format(f1_score(nn_bal.pred_teste, y_teste)))"
   ]
  },
  {
   "cell_type": "code",
   "execution_count": 94,
   "id": "00caeb12",
   "metadata": {},
   "outputs": [
    {
     "data": {
      "image/png": "[encoded data removed]",
      "text/plain": [
       "<Figure size 432x288 with 2 Axes>"
      ]
     },
     "metadata": {
      "needs_background": "light"
     },
     "output_type": "display_data"
    }
   ],
   "source": [
    "cf_matrix_nn = confusion_matrix(y_teste, nn.pred_teste)\n",
    "ax = sn.heatmap(cf_matrix_nn, annot=True, cmap='Blues', fmt='g')\n",
    "\n",
    "ax.set_title('Matriz de confusão - MLP')\n",
    "ax.set_xlabel('Previstos')\n",
    "ax.set_ylabel('Observados')\n",
    "\n",
    "## Ticket labels - List must be in alphabetical order\n",
    "ax.xaxis.set_ticklabels(['<=50k','>50k'])\n",
    "ax.yaxis.set_ticklabels(['<=50k','>50k'])\n",
    "\n",
    "## Display the visualization of the Confusion Matrix.\n",
    "plt.show()"
   ]
  },
  {
   "cell_type": "code",
   "execution_count": 214,
   "id": "aab57250",
   "metadata": {},
   "outputs": [
    {
     "data": {
      "image/png": "[encoded data removed]",
      "text/plain": [
       "<Figure size 432x288 with 2 Axes>"
      ]
     },
     "metadata": {
      "needs_background": "light"
     },
     "output_type": "display_data"
    }
   ],
   "source": [
    "cf_matrix_nn_bal = confusion_matrix(y_teste, nn_bal.pred_teste)\n",
    "ax = sn.heatmap(cf_matrix_nn_bal, annot=True, cmap='Blues', fmt='g')\n",
    "\n",
    "ax.set_title('Matriz de confusão - MLP (BALANCEADO)')\n",
    "ax.set_xlabel('Previstos')\n",
    "ax.set_ylabel('Observados')\n",
    "\n",
    "## Ticket labels - List must be in alphabetical order\n",
    "ax.xaxis.set_ticklabels(['<=50k','>50k'])\n",
    "ax.yaxis.set_ticklabels(['<=50k','>50k'])\n",
    "\n",
    "## Display the visualization of the Confusion Matrix.\n",
    "plt.show()"
   ]
  },
  {
   "cell_type": "code",
   "execution_count": 103,
   "id": "aaa5ba3f",
   "metadata": {},
   "outputs": [
    {
     "name": "stderr",
     "output_type": "stream",
     "text": [
      "/opt/anaconda3/lib/python3.8/site-packages/sklearn/model_selection/_validation.py:372: FitFailedWarning: \n",
      "135 fits failed out of a total of 270.\n",
      "The score on these train-test partitions for these parameters will be set to nan.\n",
      "If these failures are not expected, you can try to debug them by setting error_score='raise'.\n",
      "\n",
      "Below are more details about the failures:\n",
      "--------------------------------------------------------------------------------\n",
      "135 fits failed with the following error:\n",
      "Traceback (most recent call last):\n",
      "  File \"/opt/anaconda3/lib/python3.8/site-packages/sklearn/model_selection/_validation.py\", line 680, in _fit_and_score\n",
      "    estimator.fit(X_train, y_train, **fit_params)\n",
      "  File \"/opt/anaconda3/lib/python3.8/site-packages/sklearn/ensemble/_gb.py\", line 525, in fit\n",
      "    self._check_params()\n",
      "  File \"/opt/anaconda3/lib/python3.8/site-packages/sklearn/ensemble/_gb.py\", line 282, in _check_params\n",
      "    raise ValueError(\"Loss '{0:s}' not supported. \".format(self.loss))\n",
      "ValueError: Loss 'log_loss' not supported. \n",
      "\n",
      "  warnings.warn(some_fits_failed_message, FitFailedWarning)\n",
      "/opt/anaconda3/lib/python3.8/site-packages/sklearn/model_selection/_search.py:969: UserWarning: One or more of the test scores are non-finite: [       nan        nan        nan        nan        nan        nan\n",
      "        nan        nan        nan 0.86468489 0.8752497  0.87457408\n",
      " 0.87392913 0.87666238 0.8725471  0.87368341 0.85372075 0.84920619\n",
      "        nan        nan        nan        nan        nan        nan\n",
      "        nan        nan        nan 0.8723014  0.87417474 0.87405191\n",
      " 0.87571038 0.86714183 0.86032381 0.86047731 0.84754778 0.84647285\n",
      "        nan        nan        nan        nan        nan        nan\n",
      "        nan        nan        nan 0.87279276 0.87337625 0.86981363\n",
      " 0.8726392  0.86047732 0.85286094 0.85077252 0.84699497 0.84432307]\n",
      "  warnings.warn(\n"
     ]
    },
    {
     "data": {
      "text/plain": [
       "{'learning_rate': 0.1,\n",
       " 'loss': 'exponential',\n",
       " 'max_depth': 5,\n",
       " 'n_estimators': 500}"
      ]
     },
     "execution_count": 103,
     "metadata": {},
     "output_type": "execute_result"
    }
   ],
   "source": [
    "### GradientBoosting c/ GridSearch e Cross Validation ###\n",
    "gbc2 = GradientBoostingClassifier()\n",
    "\n",
    "#dicionário com os valores possíveis dos hiperparâmetros\n",
    "param_grid_gbc = {'loss': ['log_loss', 'exponential'],\n",
    "                  'learning_rate': [0.1, 0.3, 0.5],\n",
    "                 'n_estimators': [100, 500, 1000],\n",
    "                 'max_depth': [3, 5, 10]}\n",
    "                       \n",
    "\n",
    "#usa gridsearch para testar todos os hiperparâmetros\n",
    "gbc_gscv = GridSearchCV(gbc2, param_grid_gbc, cv=5)\n",
    "gbc_gscv.fit(X_treino, y_treino.values.ravel())   \n",
    "gbc_gscv.best_params_"
   ]
  },
  {
   "cell_type": "code",
   "execution_count": 207,
   "id": "9d201643",
   "metadata": {},
   "outputs": [
    {
     "name": "stderr",
     "output_type": "stream",
     "text": [
      "/opt/anaconda3/lib/python3.8/site-packages/sklearn/model_selection/_validation.py:372: FitFailedWarning: \n",
      "135 fits failed out of a total of 270.\n",
      "The score on these train-test partitions for these parameters will be set to nan.\n",
      "If these failures are not expected, you can try to debug them by setting error_score='raise'.\n",
      "\n",
      "Below are more details about the failures:\n",
      "--------------------------------------------------------------------------------\n",
      "135 fits failed with the following error:\n",
      "Traceback (most recent call last):\n",
      "  File \"/opt/anaconda3/lib/python3.8/site-packages/sklearn/model_selection/_validation.py\", line 680, in _fit_and_score\n",
      "    estimator.fit(X_train, y_train, **fit_params)\n",
      "  File \"/opt/anaconda3/lib/python3.8/site-packages/sklearn/ensemble/_gb.py\", line 525, in fit\n",
      "    self._check_params()\n",
      "  File \"/opt/anaconda3/lib/python3.8/site-packages/sklearn/ensemble/_gb.py\", line 282, in _check_params\n",
      "    raise ValueError(\"Loss '{0:s}' not supported. \".format(self.loss))\n",
      "ValueError: Loss 'log_loss' not supported. \n",
      "\n",
      "  warnings.warn(some_fits_failed_message, FitFailedWarning)\n",
      "/opt/anaconda3/lib/python3.8/site-packages/sklearn/model_selection/_search.py:969: UserWarning: One or more of the test scores are non-finite: [       nan        nan        nan        nan        nan        nan\n",
      "        nan        nan        nan 0.83343969 0.84772352 0.84919029\n",
      " 0.84517305 0.85148583 0.84912607 0.8509117  0.84223945 0.83752066\n",
      "        nan        nan        nan        nan        nan        nan\n",
      "        nan        nan        nan 0.84440766 0.8486798  0.84746819\n",
      " 0.84944552 0.84447117 0.84306829 0.84536395 0.83592629 0.83592667\n",
      "        nan        nan        nan        nan        nan        nan\n",
      "        nan        nan        nan 0.84721356 0.84657533 0.84695801\n",
      " 0.84772342 0.84434364 0.8412829  0.84007119 0.8352891  0.83318486]\n",
      "  warnings.warn(\n"
     ]
    },
    {
     "data": {
      "text/plain": [
       "{'learning_rate': 0.1,\n",
       " 'loss': 'exponential',\n",
       " 'max_depth': 5,\n",
       " 'n_estimators': 500}"
      ]
     },
     "execution_count": 207,
     "metadata": {},
     "output_type": "execute_result"
    }
   ],
   "source": [
    "### GradientBoosting BALANCEADO c/ GridSearch e Cross Validation ###\n",
    "gbc2_bal = GradientBoostingClassifier()\n",
    "\n",
    "#dicionário com os valores possíveis dos hiperparâmetros\n",
    "param_grid_gbc_bal = {'loss': ['log_loss', 'exponential'],\n",
    "                  'learning_rate': [0.1, 0.3, 0.5],\n",
    "                 'n_estimators': [100, 500, 1000],\n",
    "                 'max_depth': [3, 5, 10]}\n",
    "                       \n",
    "\n",
    "#usa gridsearch para testar todos os hiperparâmetros\n",
    "gbc_gscv_bal = GridSearchCV(gbc2_bal, param_grid_gbc_bal, cv=5)\n",
    "gbc_gscv_bal.fit(X_treino_bal, y_treino_bal.values.ravel())   \n",
    "gbc_gscv_bal.best_params_"
   ]
  },
  {
   "cell_type": "code",
   "execution_count": 104,
   "id": "e8127304",
   "metadata": {},
   "outputs": [],
   "source": [
    "### GradientBoostingClassifier ###\n",
    "gbc = GradientBoostingClassifier(loss = gbc_gscv.best_params_['loss'],\n",
    "                                 n_estimators = gbc_gscv.best_params_['n_estimators'], \n",
    "                                 learning_rate = gbc_gscv.best_params_['learning_rate'],\n",
    "                                max_depth = gbc_gscv.best_params_['max_depth'])\n",
    "gbc.fit(X_treino, y_treino.values.ravel())\n",
    "\n",
    "gbc.pred_treino=gbc.predict(X_treino)\n",
    "gbc.pred_teste=gbc.predict(X_teste)"
   ]
  },
  {
   "cell_type": "code",
   "execution_count": 208,
   "id": "0952ee89",
   "metadata": {},
   "outputs": [],
   "source": [
    "### GradientBoostingClassifier balanceado ###\n",
    "gbc_bal = GradientBoostingClassifier(loss = gbc_gscv.best_params_['loss'],\n",
    "                                 n_estimators = gbc_gscv.best_params_['n_estimators'], \n",
    "                                 learning_rate = gbc_gscv.best_params_['learning_rate'],\n",
    "                                max_depth = gbc_gscv.best_params_['max_depth'])\n",
    "gbc_bal.fit(X_treino_bal, y_treino_bal.values.ravel())\n",
    "\n",
    "gbc_bal.pred_treino=gbc_bal.predict(X_treino)\n",
    "gbc_bal.pred_teste=gbc_bal.predict(X_teste)"
   ]
  },
  {
   "cell_type": "code",
   "execution_count": 105,
   "id": "7a4a21d2",
   "metadata": {},
   "outputs": [
    {
     "name": "stdout",
     "output_type": "stream",
     "text": [
      "Acurária TREINO: 0.9028592487945702\n",
      "Acurária TESTE: 0.8374178490264725\n",
      "Precisão TREINO: 0.7388088254049229\n",
      "Precisão TESTE: 0.4017160686427457\n",
      "Revocação TREINO: 0.8385929357266937\n",
      "Revocação TESTE: 0.817028027498678\n",
      "F1-Score TREINO: 0.7855447826971321\n",
      "F1-Score TESTE: 0.5386090291092906\n"
     ]
    }
   ],
   "source": [
    "print('Acurária TREINO:', accuracy_score(gbc.pred_treino, y_treino))\n",
    "print('Acurária TESTE:', accuracy_score(gbc.pred_teste, y_teste))\n",
    "\n",
    "print('Precisão TREINO:', precision_score(gbc.pred_treino, y_treino))\n",
    "print('Precisão TESTE:', precision_score(gbc.pred_teste, y_teste))\n",
    "\n",
    "print('Revocação TREINO:', recall_score(gbc.pred_treino, y_treino))\n",
    "print('Revocação TESTE:', recall_score(gbc.pred_teste, y_teste))\n",
    "\n",
    "print('F1-Score TREINO:', f1_score(gbc.pred_treino, y_treino))\n",
    "print('F1-Score TESTE:', f1_score(gbc.pred_teste, y_teste))"
   ]
  },
  {
   "cell_type": "code",
   "execution_count": 209,
   "id": "154395e7",
   "metadata": {},
   "outputs": [
    {
     "name": "stdout",
     "output_type": "stream",
     "text": [
      "Gradient Boosting balanceado\n",
      "Acurária TREINO: 0.85682\n",
      "Acurária TESTE: 0.82765\n",
      "Precisão TREINO: 0.92552\n",
      "Precisão TESTE: 0.72179\n",
      "Revocação TREINO: 0.64023\n",
      "Revocação TESTE: 0.61525\n",
      "F1-Score TREINO: 0.75688\n",
      "F1-Score TESTE: 0.66427\n"
     ]
    }
   ],
   "source": [
    "print('Gradient Boosting balanceado')\n",
    "print('Acurária TREINO:', \"{:.5f}\".format(accuracy_score(gbc_bal.pred_treino, y_treino)))\n",
    "print('Acurária TESTE:', \"{:.5f}\".format(accuracy_score(gbc_bal.pred_teste, y_teste)))\n",
    "\n",
    "print('Precisão TREINO:', \"{:.5f}\".format(precision_score(gbc_bal.pred_treino, y_treino)))\n",
    "print('Precisão TESTE:', \"{:.5f}\".format(precision_score(gbc_bal.pred_teste, y_teste)))\n",
    "\n",
    "print('Revocação TREINO:', \"{:.5f}\".format(recall_score(gbc_bal.pred_treino, y_treino)))\n",
    "print('Revocação TESTE:', \"{:.5f}\".format(recall_score(gbc_bal.pred_teste, y_teste)))\n",
    "\n",
    "print('F1-Score TREINO:', \"{:.5f}\".format(f1_score(gbc_bal.pred_treino, y_treino)))\n",
    "print('F1-Score TESTE:', \"{:.5f}\".format(f1_score(gbc_bal.pred_teste, y_teste)))"
   ]
  },
  {
   "cell_type": "code",
   "execution_count": 106,
   "id": "e76bd6dd",
   "metadata": {},
   "outputs": [
    {
     "data": {
      "image/png": "[encoded data removed]",
      "text/plain": [
       "<Figure size 432x288 with 2 Axes>"
      ]
     },
     "metadata": {
      "needs_background": "light"
     },
     "output_type": "display_data"
    }
   ],
   "source": [
    "cf_matrix_gbc = confusion_matrix(y_teste, gbc.pred_teste)\n",
    "ax = sn.heatmap(cf_matrix_gbc, annot=True, cmap='Blues', fmt='g')\n",
    "\n",
    "ax.set_title('Matriz de confusão - Gradient Boosting')\n",
    "ax.set_xlabel('Previstos')\n",
    "ax.set_ylabel('Observados')\n",
    "\n",
    "## Ticket labels - List must be in alphabetical order\n",
    "ax.xaxis.set_ticklabels(['<=50k','>50k'])\n",
    "ax.yaxis.set_ticklabels(['<=50k','>50k'])\n",
    "\n",
    "## Display the visualization of the Confusion Matrix.\n",
    "plt.show()"
   ]
  },
  {
   "cell_type": "code",
   "execution_count": 210,
   "id": "aa2a422b",
   "metadata": {},
   "outputs": [
    {
     "data": {
      "image/png": "[encoded data removed]",
      "text/plain": [
       "<Figure size 432x288 with 2 Axes>"
      ]
     },
     "metadata": {
      "needs_background": "light"
     },
     "output_type": "display_data"
    }
   ],
   "source": [
    "cf_matrix_gbc_bal = confusion_matrix(y_teste, gbc_bal.pred_teste)\n",
    "ax = sn.heatmap(cf_matrix_gbc_bal, annot=True, cmap='Blues', fmt='g')\n",
    "\n",
    "ax.set_title('Matriz de confusão - Gradient Boosting (BALANCEADO)')\n",
    "ax.set_xlabel('Previstos')\n",
    "ax.set_ylabel('Observados')\n",
    "\n",
    "## Ticket labels - List must be in alphabetical order\n",
    "ax.xaxis.set_ticklabels(['<=50k','>50k'])\n",
    "ax.yaxis.set_ticklabels(['<=50k','>50k'])\n",
    "\n",
    "## Display the visualization of the Confusion Matrix.\n",
    "plt.show()"
   ]
  }
 ],
 "metadata": {
  "kernelspec": {
   "display_name": "Python 3 (ipykernel)",
   "language": "python",
   "name": "python3"
  },
  "language_info": {
   "codemirror_mode": {
    "name": "ipython",
    "version": 3
   },
   "file_extension": ".py",
   "mimetype": "text/x-python",
   "name": "python",
   "nbconvert_exporter": "python",
   "pygments_lexer": "ipython3",
   "version": "3.8.2"
  }
 },
 "nbformat": 4,
 "nbformat_minor": 5
}
